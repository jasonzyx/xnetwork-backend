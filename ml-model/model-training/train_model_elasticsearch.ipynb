{
 "cells": [
  {
   "cell_type": "code",
   "execution_count": 1,
   "metadata": {
    "_kg_hide-input": false
   },
   "outputs": [],
   "source": [
    "import numpy as np # linear algebra\n",
    "import os # accessing directory structure\n",
    "import pandas as pd # data processing, CSV file I/O (e.g. pd.read_csv)"
   ]
  },
  {
   "cell_type": "markdown",
   "metadata": {},
   "source": [
    "### Data is downloaded from: https://grouplens.org/datasets/movielens/https://grouplens.org/datasets/movielens/"
   ]
  },
  {
   "cell_type": "code",
   "execution_count": 2,
   "metadata": {
    "_kg_hide-input": false
   },
   "outputs": [],
   "source": [
    "nRowsRead = None # specify 'None' if want to read whole file\n",
    "# movie_metadata.csv has 5044 rows in reality, but we are only loading/previewing the first 1000 rows\n",
    "size = \"large\"\n",
    "movies = pd.read_csv(f'../data/movie-lens-{size}/movies.csv', delimiter=',', nrows = nRowsRead)\n",
    "ratings = pd.read_csv(f'../data/movie-lens-{size}/ratings.csv', delimiter=',', nrows = nRowsRead)\n",
    "tags = pd.read_csv(f'../data/movie-lens-{size}/tags.csv', delimiter=',', nrows = nRowsRead)"
   ]
  },
  {
   "cell_type": "code",
   "execution_count": 3,
   "metadata": {},
   "outputs": [
    {
     "data": {
      "text/plain": [
       "(62423, 3)"
      ]
     },
     "execution_count": 3,
     "metadata": {},
     "output_type": "execute_result"
    }
   ],
   "source": [
    "movies.shape"
   ]
  },
  {
   "cell_type": "markdown",
   "metadata": {},
   "source": [
    "Let's take a quick look at what the data looks like:"
   ]
  },
  {
   "cell_type": "code",
   "execution_count": 4,
   "metadata": {
    "_kg_hide-input": false
   },
   "outputs": [
    {
     "data": {
      "text/html": [
       "<div>\n",
       "<style scoped>\n",
       "    .dataframe tbody tr th:only-of-type {\n",
       "        vertical-align: middle;\n",
       "    }\n",
       "\n",
       "    .dataframe tbody tr th {\n",
       "        vertical-align: top;\n",
       "    }\n",
       "\n",
       "    .dataframe thead th {\n",
       "        text-align: right;\n",
       "    }\n",
       "</style>\n",
       "<table border=\"1\" class=\"dataframe\">\n",
       "  <thead>\n",
       "    <tr style=\"text-align: right;\">\n",
       "      <th></th>\n",
       "      <th>movieId</th>\n",
       "      <th>title</th>\n",
       "      <th>genres</th>\n",
       "    </tr>\n",
       "  </thead>\n",
       "  <tbody>\n",
       "    <tr>\n",
       "      <th>0</th>\n",
       "      <td>1</td>\n",
       "      <td>Toy Story (1995)</td>\n",
       "      <td>Adventure|Animation|Children|Comedy|Fantasy</td>\n",
       "    </tr>\n",
       "    <tr>\n",
       "      <th>1</th>\n",
       "      <td>2</td>\n",
       "      <td>Jumanji (1995)</td>\n",
       "      <td>Adventure|Children|Fantasy</td>\n",
       "    </tr>\n",
       "    <tr>\n",
       "      <th>2</th>\n",
       "      <td>3</td>\n",
       "      <td>Grumpier Old Men (1995)</td>\n",
       "      <td>Comedy|Romance</td>\n",
       "    </tr>\n",
       "    <tr>\n",
       "      <th>3</th>\n",
       "      <td>4</td>\n",
       "      <td>Waiting to Exhale (1995)</td>\n",
       "      <td>Comedy|Drama|Romance</td>\n",
       "    </tr>\n",
       "    <tr>\n",
       "      <th>4</th>\n",
       "      <td>5</td>\n",
       "      <td>Father of the Bride Part II (1995)</td>\n",
       "      <td>Comedy</td>\n",
       "    </tr>\n",
       "  </tbody>\n",
       "</table>\n",
       "</div>"
      ],
      "text/plain": [
       "   movieId                               title  \\\n",
       "0        1                    Toy Story (1995)   \n",
       "1        2                      Jumanji (1995)   \n",
       "2        3             Grumpier Old Men (1995)   \n",
       "3        4            Waiting to Exhale (1995)   \n",
       "4        5  Father of the Bride Part II (1995)   \n",
       "\n",
       "                                        genres  \n",
       "0  Adventure|Animation|Children|Comedy|Fantasy  \n",
       "1                   Adventure|Children|Fantasy  \n",
       "2                               Comedy|Romance  \n",
       "3                         Comedy|Drama|Romance  \n",
       "4                                       Comedy  "
      ]
     },
     "metadata": {},
     "output_type": "display_data"
    },
    {
     "data": {
      "text/html": [
       "<div>\n",
       "<style scoped>\n",
       "    .dataframe tbody tr th:only-of-type {\n",
       "        vertical-align: middle;\n",
       "    }\n",
       "\n",
       "    .dataframe tbody tr th {\n",
       "        vertical-align: top;\n",
       "    }\n",
       "\n",
       "    .dataframe thead th {\n",
       "        text-align: right;\n",
       "    }\n",
       "</style>\n",
       "<table border=\"1\" class=\"dataframe\">\n",
       "  <thead>\n",
       "    <tr style=\"text-align: right;\">\n",
       "      <th></th>\n",
       "      <th>userId</th>\n",
       "      <th>movieId</th>\n",
       "      <th>rating</th>\n",
       "      <th>timestamp</th>\n",
       "    </tr>\n",
       "  </thead>\n",
       "  <tbody>\n",
       "    <tr>\n",
       "      <th>0</th>\n",
       "      <td>1</td>\n",
       "      <td>296</td>\n",
       "      <td>5.0</td>\n",
       "      <td>1147880044</td>\n",
       "    </tr>\n",
       "    <tr>\n",
       "      <th>1</th>\n",
       "      <td>1</td>\n",
       "      <td>306</td>\n",
       "      <td>3.5</td>\n",
       "      <td>1147868817</td>\n",
       "    </tr>\n",
       "    <tr>\n",
       "      <th>2</th>\n",
       "      <td>1</td>\n",
       "      <td>307</td>\n",
       "      <td>5.0</td>\n",
       "      <td>1147868828</td>\n",
       "    </tr>\n",
       "    <tr>\n",
       "      <th>3</th>\n",
       "      <td>1</td>\n",
       "      <td>665</td>\n",
       "      <td>5.0</td>\n",
       "      <td>1147878820</td>\n",
       "    </tr>\n",
       "    <tr>\n",
       "      <th>4</th>\n",
       "      <td>1</td>\n",
       "      <td>899</td>\n",
       "      <td>3.5</td>\n",
       "      <td>1147868510</td>\n",
       "    </tr>\n",
       "  </tbody>\n",
       "</table>\n",
       "</div>"
      ],
      "text/plain": [
       "   userId  movieId  rating   timestamp\n",
       "0       1      296     5.0  1147880044\n",
       "1       1      306     3.5  1147868817\n",
       "2       1      307     5.0  1147868828\n",
       "3       1      665     5.0  1147878820\n",
       "4       1      899     3.5  1147868510"
      ]
     },
     "metadata": {},
     "output_type": "display_data"
    },
    {
     "data": {
      "text/html": [
       "<div>\n",
       "<style scoped>\n",
       "    .dataframe tbody tr th:only-of-type {\n",
       "        vertical-align: middle;\n",
       "    }\n",
       "\n",
       "    .dataframe tbody tr th {\n",
       "        vertical-align: top;\n",
       "    }\n",
       "\n",
       "    .dataframe thead th {\n",
       "        text-align: right;\n",
       "    }\n",
       "</style>\n",
       "<table border=\"1\" class=\"dataframe\">\n",
       "  <thead>\n",
       "    <tr style=\"text-align: right;\">\n",
       "      <th></th>\n",
       "      <th>userId</th>\n",
       "      <th>movieId</th>\n",
       "      <th>tag</th>\n",
       "      <th>timestamp</th>\n",
       "    </tr>\n",
       "  </thead>\n",
       "  <tbody>\n",
       "    <tr>\n",
       "      <th>0</th>\n",
       "      <td>3</td>\n",
       "      <td>260</td>\n",
       "      <td>classic</td>\n",
       "      <td>1439472355</td>\n",
       "    </tr>\n",
       "    <tr>\n",
       "      <th>1</th>\n",
       "      <td>3</td>\n",
       "      <td>260</td>\n",
       "      <td>sci-fi</td>\n",
       "      <td>1439472256</td>\n",
       "    </tr>\n",
       "    <tr>\n",
       "      <th>2</th>\n",
       "      <td>4</td>\n",
       "      <td>1732</td>\n",
       "      <td>dark comedy</td>\n",
       "      <td>1573943598</td>\n",
       "    </tr>\n",
       "    <tr>\n",
       "      <th>3</th>\n",
       "      <td>4</td>\n",
       "      <td>1732</td>\n",
       "      <td>great dialogue</td>\n",
       "      <td>1573943604</td>\n",
       "    </tr>\n",
       "    <tr>\n",
       "      <th>4</th>\n",
       "      <td>4</td>\n",
       "      <td>7569</td>\n",
       "      <td>so bad it's good</td>\n",
       "      <td>1573943455</td>\n",
       "    </tr>\n",
       "  </tbody>\n",
       "</table>\n",
       "</div>"
      ],
      "text/plain": [
       "   userId  movieId               tag   timestamp\n",
       "0       3      260           classic  1439472355\n",
       "1       3      260            sci-fi  1439472256\n",
       "2       4     1732       dark comedy  1573943598\n",
       "3       4     1732    great dialogue  1573943604\n",
       "4       4     7569  so bad it's good  1573943455"
      ]
     },
     "metadata": {},
     "output_type": "display_data"
    }
   ],
   "source": [
    "pd.set_option('display.max_columns', None)\n",
    "\n",
    "display(movies.head(5))\n",
    "display(ratings.head(5))\n",
    "display(tags.head(5))\n"
   ]
  },
  {
   "cell_type": "markdown",
   "metadata": {},
   "source": [
    "### first time setup\n",
    "- pipenv install \"elasticsearch<8.0.0\"\n",
    "- docker pull docker.elastic.co/elasticsearch/elasticsearch:7.10.0\n",
    "- docker run --name elasticsearch -p 9200:9200 -p 9300:9300 -e \"discovery.type=single-node\" docker.elastic.co/elasticsearch/elasticsearch:7.10.0\n",
    "\n",
    "### second time and beyond\n",
    "- docker stop elasticsearch\n",
    "- docker start elasticsearch"
   ]
  },
  {
   "cell_type": "code",
   "execution_count": 5,
   "metadata": {},
   "outputs": [
    {
     "name": "stdout",
     "output_type": "stream",
     "text": [
      "Index 'movies_index_large' does not exist.\n",
      "Index 'movies_index_large' creating...\n",
      "indexing the 0th docs\n",
      "indexing the 500th docs\n",
      "indexing the 1000th docs\n",
      "indexing the 1500th docs\n",
      "indexing the 2000th docs\n",
      "indexing the 2500th docs\n",
      "indexing the 3000th docs\n",
      "indexing the 3500th docs\n",
      "indexing the 4000th docs\n",
      "indexing the 4500th docs\n",
      "indexing the 5000th docs\n",
      "indexing the 5500th docs\n",
      "indexing the 6000th docs\n",
      "indexing the 6500th docs\n",
      "indexing the 7000th docs\n",
      "indexing the 7500th docs\n",
      "indexing the 8000th docs\n",
      "indexing the 8500th docs\n",
      "indexing the 9000th docs\n",
      "indexing the 9500th docs\n",
      "indexing the 10000th docs\n",
      "indexing the 10500th docs\n",
      "indexing the 11000th docs\n",
      "indexing the 11500th docs\n",
      "indexing the 12000th docs\n",
      "indexing the 12500th docs\n",
      "indexing the 13000th docs\n",
      "indexing the 13500th docs\n",
      "indexing the 14000th docs\n",
      "indexing the 14500th docs\n",
      "indexing the 15000th docs\n",
      "indexing the 15500th docs\n",
      "indexing the 16000th docs\n",
      "indexing the 16500th docs\n",
      "indexing the 17000th docs\n",
      "indexing the 17500th docs\n",
      "indexing the 18000th docs\n",
      "indexing the 18500th docs\n",
      "indexing the 19000th docs\n",
      "indexing the 19500th docs\n",
      "indexing the 20000th docs\n",
      "indexing the 20500th docs\n",
      "indexing the 21000th docs\n",
      "indexing the 21500th docs\n",
      "indexing the 22000th docs\n",
      "indexing the 22500th docs\n",
      "indexing the 23000th docs\n",
      "indexing the 23500th docs\n",
      "indexing the 24000th docs\n",
      "indexing the 24500th docs\n",
      "indexing the 25000th docs\n",
      "indexing the 25500th docs\n",
      "indexing the 26000th docs\n",
      "indexing the 26500th docs\n",
      "indexing the 27000th docs\n",
      "indexing the 27500th docs\n",
      "indexing the 28000th docs\n",
      "indexing the 28500th docs\n",
      "indexing the 29000th docs\n",
      "indexing the 29500th docs\n",
      "indexing the 30000th docs\n",
      "indexing the 30500th docs\n",
      "indexing the 31000th docs\n",
      "indexing the 31500th docs\n",
      "indexing the 32000th docs\n",
      "indexing the 32500th docs\n",
      "indexing the 33000th docs\n",
      "indexing the 33500th docs\n",
      "indexing the 34000th docs\n",
      "indexing the 34500th docs\n",
      "indexing the 35000th docs\n",
      "indexing the 35500th docs\n",
      "indexing the 36000th docs\n",
      "indexing the 36500th docs\n",
      "indexing the 37000th docs\n",
      "indexing the 37500th docs\n",
      "indexing the 38000th docs\n",
      "indexing the 38500th docs\n",
      "indexing the 39000th docs\n",
      "indexing the 39500th docs\n",
      "indexing the 40000th docs\n",
      "indexing the 40500th docs\n",
      "indexing the 41000th docs\n",
      "indexing the 41500th docs\n",
      "indexing the 42000th docs\n",
      "indexing the 42500th docs\n",
      "indexing the 43000th docs\n",
      "indexing the 43500th docs\n",
      "indexing the 44000th docs\n",
      "indexing the 44500th docs\n",
      "indexing the 45000th docs\n",
      "indexing the 45500th docs\n",
      "indexing the 46000th docs\n",
      "indexing the 46500th docs\n",
      "indexing the 47000th docs\n",
      "indexing the 47500th docs\n",
      "indexing the 48000th docs\n",
      "indexing the 48500th docs\n",
      "indexing the 49000th docs\n",
      "indexing the 49500th docs\n",
      "indexing the 50000th docs\n",
      "indexing the 50500th docs\n",
      "indexing the 51000th docs\n",
      "indexing the 51500th docs\n",
      "indexing the 52000th docs\n",
      "indexing the 52500th docs\n",
      "indexing the 53000th docs\n",
      "indexing the 53500th docs\n",
      "indexing the 54000th docs\n",
      "indexing the 54500th docs\n",
      "indexing the 55000th docs\n",
      "indexing the 55500th docs\n",
      "indexing the 56000th docs\n",
      "indexing the 56500th docs\n",
      "indexing the 57000th docs\n",
      "indexing the 57500th docs\n",
      "indexing the 58000th docs\n",
      "indexing the 58500th docs\n",
      "indexing the 59000th docs\n",
      "indexing the 59500th docs\n",
      "indexing the 60000th docs\n",
      "indexing the 60500th docs\n",
      "indexing the 61000th docs\n",
      "indexing the 61500th docs\n",
      "indexing the 62000th docs\n",
      "Index 'movies_index_large' created.\n"
     ]
    }
   ],
   "source": [
    "from elasticsearch import Elasticsearch\n",
    "\n",
    "# Connect to Elasticsearch with HTTP (not HTTPS)\n",
    "es = Elasticsearch(\n",
    "    ['http://localhost:9200']  # Use HTTP instead of HTTPS\n",
    ")\n",
    "\n",
    "# Define the index name\n",
    "index_name = 'movies_index_large'\n",
    "\n",
    "# Check if the index exists\n",
    "if es.indices.exists(index=index_name):\n",
    "    # Delete the index\n",
    "    es.indices.delete(index=index_name)\n",
    "    print(f\"Index '{index_name}' deleted.\")\n",
    "else:\n",
    "    print(f\"Index '{index_name}' does not exist.\")\n",
    "\n",
    "# Create the index\n",
    "print(f\"Index '{index_name}' creating...\")\n",
    "\n",
    "es.indices.create(index=index_name, ignore=400)\n",
    "\n",
    "# Indexing documents from the dataframe\n",
    "for i, row in movies.iterrows():\n",
    "    doc = {\n",
    "        'title': row['title'],\n",
    "        'movieId': row['movieId'],\n",
    "        'genres': row['genres']\n",
    "    }\n",
    "    if i % 500 == 0:\n",
    "        print(f'indexing the {i}th docs')\n",
    "    es.index(index=index_name, document=doc)\n",
    "print(f\"Index '{index_name}' created.\")"
   ]
  },
  {
   "cell_type": "code",
   "execution_count": 6,
   "metadata": {},
   "outputs": [],
   "source": [
    "def search_results_es(query_text, es, index_name, top_k):\n",
    "    query = {\n",
    "        \"multi_match\": {\n",
    "            \"query\": query_text,\n",
    "            \"fields\": [\"title^2\", \"genres^0.5\"]\n",
    "        }\n",
    "    }\n",
    "    results = es.search(index=index_name, query=query, size=top_k)\n",
    "    return [(hit['_source'].get('title'), hit['_source'].get('movieId'), hit['_source'].get('genres')) for hit in results['hits']['hits']]\n"
   ]
  },
  {
   "cell_type": "code",
   "execution_count": 7,
   "metadata": {},
   "outputs": [
    {
     "name": "stdout",
     "output_type": "stream",
     "text": [
      "[('Toy, The (1982)', 4929, 'Comedy'), ('Toy Story (1995)', 1, 'Adventure|Animation|Children|Comedy|Fantasy'), ('Toy Soldiers (1991)', 5843, 'Action|Drama'), ('Toy Soldiers (1984)', 139263, 'Action|Drama|Thriller'), ('Toy Masters (2014)', 143537, 'Documentary'), ('Toy Reanimator (2002)', 153234, 'Fantasy|Sci-Fi'), ('Toy Gun (2018)', 199484, 'Action|Comedy|Crime'), ('Toy Story 2 (1999)', 3114, 'Adventure|Animation|Children|Comedy|Fantasy'), ('Toy Story 3 (2010)', 78499, 'Adventure|Animation|Children|Comedy|Fantasy|IMAX'), ('Christmas Toy, The (1986)', 80141, 'Children|Musical')]\n"
     ]
    }
   ],
   "source": [
    "# Example search\n",
    "query_text = \"toy\"\n",
    "search_results = search_results_es(query_text, es, index_name, top_k=10)\n",
    "print(search_results)"
   ]
  },
  {
   "cell_type": "markdown",
   "metadata": {},
   "source": [
    "# Load model "
   ]
  },
  {
   "cell_type": "code",
   "execution_count": 8,
   "metadata": {},
   "outputs": [],
   "source": [
    "from elasticsearch import Elasticsearch\n",
    "\n",
    "# Connect to Elasticsearch with HTTP (not HTTPS)\n",
    "es = Elasticsearch(\n",
    "    ['http://localhost:9200']  # Use HTTP instead of HTTPS\n",
    ")\n",
    "\n",
    "# Define the index name\n",
    "index_name = 'movies_index_large'\n"
   ]
  },
  {
   "cell_type": "code",
   "execution_count": 9,
   "metadata": {},
   "outputs": [],
   "source": [
    "def search_results_es(query_text, es, index_name, top_k):\n",
    "    query = {\n",
    "        \"multi_match\": {\n",
    "            \"query\": query_text,\n",
    "            \"fields\": [\"title^2\", \"genres^0.5\"]\n",
    "        }\n",
    "    }\n",
    "    results = es.search(index=index_name, query=query, size=top_k)\n",
    "    return [(hit['_source'].get('title'), hit['_source'].get('movieId'), hit['_source'].get('genres')) for hit in results['hits']['hits']]\n"
   ]
  },
  {
   "cell_type": "code",
   "execution_count": 10,
   "metadata": {},
   "outputs": [
    {
     "name": "stdout",
     "output_type": "stream",
     "text": [
      "[('Toy, The (1982)', 4929, 'Comedy'), ('Toy Story (1995)', 1, 'Adventure|Animation|Children|Comedy|Fantasy'), ('Toy Soldiers (1991)', 5843, 'Action|Drama'), ('Toy Soldiers (1984)', 139263, 'Action|Drama|Thriller'), ('Toy Masters (2014)', 143537, 'Documentary'), ('Toy Reanimator (2002)', 153234, 'Fantasy|Sci-Fi'), ('Toy Gun (2018)', 199484, 'Action|Comedy|Crime'), ('Toy Story 2 (1999)', 3114, 'Adventure|Animation|Children|Comedy|Fantasy'), ('Toy Story 3 (2010)', 78499, 'Adventure|Animation|Children|Comedy|Fantasy|IMAX'), ('Christmas Toy, The (1986)', 80141, 'Children|Musical')]\n"
     ]
    }
   ],
   "source": [
    "# Example search\n",
    "query_text = \"toy\"\n",
    "search_results = search_results_es(query_text, es, index_name, top_k=10)\n",
    "print(search_results)"
   ]
  },
  {
   "cell_type": "code",
   "execution_count": null,
   "metadata": {},
   "outputs": [],
   "source": []
  },
  {
   "cell_type": "code",
   "execution_count": null,
   "metadata": {},
   "outputs": [],
   "source": []
  }
 ],
 "metadata": {
  "kaggle": {
   "accelerator": "none",
   "dataSources": [
    {
     "datasetId": 7181,
     "sourceId": 10279,
     "sourceType": "datasetVersion"
    }
   ],
   "dockerImageVersionId": 29271,
   "isGpuEnabled": false,
   "isInternetEnabled": false,
   "language": "python",
   "sourceType": "notebook"
  },
  "kernelspec": {
   "display_name": "ml-model",
   "language": "python",
   "name": "ml-model"
  },
  "language_info": {
   "codemirror_mode": {
    "name": "ipython",
    "version": 3
   },
   "file_extension": ".py",
   "mimetype": "text/x-python",
   "name": "python",
   "nbconvert_exporter": "python",
   "pygments_lexer": "ipython3",
   "version": "3.9.16"
  }
 },
 "nbformat": 4,
 "nbformat_minor": 4
}
