{
 "cells": [
  {
   "cell_type": "code",
   "execution_count": 1,
   "id": "36cf34a8-9c6a-4ff0-b2d2-c269f84ecea4",
   "metadata": {},
   "outputs": [],
   "source": [
    "import openai\n",
    "import os"
   ]
  },
  {
   "cell_type": "code",
   "execution_count": 9,
   "id": "c46e8d46-c5fb-48f8-bb14-e9f75ef60f11",
   "metadata": {},
   "outputs": [],
   "source": [
    "openai.api_key = '' # find in /xnetwork-backend/xnetwork/.env"
   ]
  },
  {
   "cell_type": "code",
   "execution_count": 6,
   "id": "487f8fd8-ba90-4720-a0d6-4deb6844cce6",
   "metadata": {},
   "outputs": [],
   "source": [
    "# %pip install openai==0.28"
   ]
  },
  {
   "cell_type": "code",
   "execution_count": 11,
   "id": "19ab6a04-60fb-42d0-a367-ef3e5d4ab421",
   "metadata": {},
   "outputs": [
    {
     "data": {
      "text/plain": [
       "<OpenAIObject chat.completion id=chatcmpl-8jtwTNh76YYthdSgatyEqSpoEOAWk at 0x7fb5d1922e50> JSON: {\n",
       "  \"id\": \"chatcmpl-8jtwTNh76YYthdSgatyEqSpoEOAWk\",\n",
       "  \"object\": \"chat.completion\",\n",
       "  \"created\": 1705950493,\n",
       "  \"model\": \"gpt-3.5-turbo-0613\",\n",
       "  \"choices\": [\n",
       "    {\n",
       "      \"index\": 0,\n",
       "      \"message\": {\n",
       "        \"role\": \"assistant\",\n",
       "        \"content\": \"Orange who?\"\n",
       "      },\n",
       "      \"logprobs\": null,\n",
       "      \"finish_reason\": \"stop\"\n",
       "    }\n",
       "  ],\n",
       "  \"usage\": {\n",
       "    \"prompt_tokens\": 35,\n",
       "    \"completion_tokens\": 3,\n",
       "    \"total_tokens\": 38\n",
       "  },\n",
       "  \"system_fingerprint\": null\n",
       "}"
      ]
     },
     "execution_count": 11,
     "metadata": {},
     "output_type": "execute_result"
    }
   ],
   "source": [
    "MODEL = \"gpt-3.5-turbo\"\n",
    "response = openai.ChatCompletion.create(\n",
    "    model=MODEL,\n",
    "    messages=[\n",
    "        {\"role\": \"system\", \"content\": \"You are a helpful assistant.\"},\n",
    "        {\"role\": \"user\", \"content\": \"Knock knock.\"},\n",
    "        {\"role\": \"assistant\", \"content\": \"Who's there?\"},\n",
    "        {\"role\": \"user\", \"content\": \"Orange.\"},\n",
    "    ],\n",
    "    temperature=0,\n",
    ")\n",
    "\n",
    "response"
   ]
  },
  {
   "cell_type": "code",
   "execution_count": 16,
   "id": "1c462ebc-1f71-47a9-af43-bef46536d47e",
   "metadata": {},
   "outputs": [
    {
     "name": "stdin",
     "output_type": "stream",
     "text": [
      "You:  adventure\n"
     ]
    },
    {
     "name": "stdout",
     "output_type": "stream",
     "text": [
      "Assistant: Great! Adventure movies are always exciting. Can you please provide me with more specific information? For example, do you have any preferences for the time period, setting, or any particular actors or directors you enjoy?\n",
      "movie_search_info: \n",
      "{'Genre': 'Adventure'}\n",
      "query_text: Genre:Adventure\n"
     ]
    },
    {
     "name": "stdin",
     "output_type": "stream",
     "text": [
      "You:  titanic\n"
     ]
    },
    {
     "name": "stdout",
     "output_type": "stream",
     "text": [
      "Assistant: Ah, \"Titanic\" is a classic adventure movie! Released in 1997, it was directed by James Cameron and starred Leonardo DiCaprio and Kate Winslet. The film is set on the ill-fated maiden voyage of the RMS Titanic in 1912. It combines elements of romance, drama, and action as it follows the love story between Jack Dawson (DiCaprio) and Rose DeWitt Bukater (Winslet) amidst the backdrop of the ship's tragic sinking.\n",
      "\n",
      "If you enjoyed \"Titanic,\" you might also like other adventure movies such as \"Indiana Jones\" series, \"Pirates of the Caribbean\" series, \"The Mummy\" series, or \"Jurassic Park.\" Let me know if you would like more recommendations or if there's anything else I can assist you with!\n",
      "movie_search_info: \n",
      "{'Genre': 'Adventure', 'Movie title': \"'titanic'\"}\n",
      "query_text: Genre:Adventure AND Movie title:'titanic'\n"
     ]
    },
    {
     "name": "stdin",
     "output_type": "stream",
     "text": [
      "You:  ok, indiana jones\n"
     ]
    },
    {
     "name": "stdout",
     "output_type": "stream",
     "text": [
      "Assistant: Great choice! The \"Indiana Jones\" series is a beloved adventure franchise. Created by George Lucas and directed by Steven Spielberg, the series follows the adventures of the archaeologist and adventurer Indiana Jones, played by Harrison Ford.\n",
      "\n",
      "Here are the movies in the series:\n",
      "\n",
      "1. \"Raiders of the Lost Ark\" (1981): In this film, Indiana Jones embarks on a quest to find the Ark of the Covenant before the Nazis can use its power for their own gain.\n",
      "\n",
      "2. \"Indiana Jones and the Temple of Doom\" (1984): Set in 1935, this film sees Indiana Jones trying to rescue enslaved children and recover a sacred stone from a cult in India.\n",
      "\n",
      "3. \"Indiana Jones and the Last Crusade\" (1989): In this installment, Indiana Jones teams up with his father, played by Sean Connery, to find the Holy Grail before the Nazis do.\n",
      "\n",
      "4. \"Indiana Jones and the Kingdom of the Crystal Skull\" (2008): Set in the 1950s, this film follows Indiana Jones as he searches for a mythical crystal skull while facing Soviet agents.\n",
      "\n",
      "If you enjoy the \"Indiana Jones\" series, you might also like other adventure movies such as \"The Mummy\" series, \"National Treasure,\" or \"The Goonies.\" Let me know if you need more recommendations or if there's anything else I can assist you with!\n",
      "movie_search_info: \n",
      "{'Genre': 'Adventure', 'Movie title': 'Indiana Jones'}\n",
      "query_text: Genre:Adventure AND Movie title:Indiana Jones\n"
     ]
    },
    {
     "name": "stdin",
     "output_type": "stream",
     "text": [
      "You:  exit\n"
     ]
    }
   ],
   "source": [
    "import openai\n",
    "\n",
    "MODEL = \"gpt-3.5-turbo\"\n",
    "\n",
    "def extract_search_criteria(user_input):\n",
    "    \"\"\"\n",
    "    Extracts movie search criteria from the user's input.\n",
    "    \n",
    "    :param user_input: The user's message as a string.\n",
    "    :return: Dictionary with extracted information.\n",
    "    \"\"\"\n",
    "    prompt = f\"Extract movie search criteria from the following user input: '{user_input}'\"\n",
    "    \n",
    "    response = openai.ChatCompletion.create(\n",
    "        model=MODEL,\n",
    "        messages=[{\"role\": \"system\", \"content\": prompt}],\n",
    "        temperature=0,\n",
    "    )\n",
    "\n",
    "    extracted_info = response.get('choices', [])[0].get('message', {'content': ''})['content'].strip()\n",
    "\n",
    "    # Assuming the model returns a comma-separated list of key-value pairs\n",
    "    criteria = {}\n",
    "    for item in extracted_info.split(','):\n",
    "        key_value = item.split(':')\n",
    "        if len(key_value) == 2:\n",
    "            criteria[key_value[0].strip()] = key_value[1].strip()\n",
    "\n",
    "    return criteria\n",
    "\n",
    "\n",
    "def generate_query_text(movie_search_info):\n",
    "    \"\"\"\n",
    "    Generates a search query based on the accumulated movie search criteria.\n",
    "    \n",
    "    :param movie_search_info: Dictionary containing the search criteria.\n",
    "    :return: A query string.\n",
    "    \"\"\"\n",
    "    query_parts = []\n",
    "    for key, value in movie_search_info.items():\n",
    "        query_parts.append(f\"{key}:{value}\")\n",
    "    return \" AND \".join(query_parts)\n",
    "\n",
    "\n",
    "def chat_with_gpt():\n",
    "    messages = [{\"role\": \"system\", \"content\": \"You are a helpful assistant specializing in movie searches.\"}]\n",
    "    movie_search_info = {}  # Dictionary to store movie search criteria\n",
    "\n",
    "    while True:\n",
    "        user_input = input(\"You: \")\n",
    "        if user_input.lower() in [\"quit\", \"exit\"]:\n",
    "            break\n",
    "\n",
    "        messages.append({\"role\": \"user\", \"content\": user_input})\n",
    "\n",
    "        response = openai.ChatCompletion.create(\n",
    "            model=MODEL,\n",
    "            messages=messages,\n",
    "            temperature=0,\n",
    "        )\n",
    "\n",
    "        assistant_response = response['choices'][0]['message']['content']\n",
    "        print(f\"Assistant: {assistant_response}\")\n",
    "\n",
    "        # Here you would add logic to extract movie search criteria from the conversation\n",
    "        # For example, identifying genres, actors, etc., mentioned by the user\n",
    "        movie_search_info.update(extract_search_criteria(user_input))\n",
    "        \n",
    "        # Once enough information is gathered, formulate the search query\n",
    "        query_text = generate_query_text(movie_search_info)\n",
    "\n",
    "        print(\"movie_search_info: \")\n",
    "        print(movie_search_info)\n",
    "\n",
    "        print(f'query_text: {query_text}')\n",
    "\n",
    "        # Optionally, make an API call to your movie search system with the query_text\n",
    "        # movie_results = call_movie_search_api(query_text)\n",
    "\n",
    "        # Add assistant's response to the conversation history\n",
    "        messages.append({\"role\": \"assistant\", \"content\": assistant_response})\n",
    "\n",
    "if __name__ == \"__main__\":\n",
    "    chat_with_gpt()\n"
   ]
  },
  {
   "cell_type": "code",
   "execution_count": null,
   "id": "daed33f3-7984-45c5-85a1-3981c7a7cdfc",
   "metadata": {},
   "outputs": [],
   "source": []
  },
  {
   "cell_type": "code",
   "execution_count": null,
   "id": "acdb718f-0cce-42ad-b3c3-33322cf6bd72",
   "metadata": {},
   "outputs": [],
   "source": []
  }
 ],
 "metadata": {
  "kernelspec": {
   "display_name": "Python 3 (ipykernel)",
   "language": "python",
   "name": "python3"
  },
  "language_info": {
   "codemirror_mode": {
    "name": "ipython",
    "version": 3
   },
   "file_extension": ".py",
   "mimetype": "text/x-python",
   "name": "python",
   "nbconvert_exporter": "python",
   "pygments_lexer": "ipython3",
   "version": "3.8.18"
  }
 },
 "nbformat": 4,
 "nbformat_minor": 5
}
